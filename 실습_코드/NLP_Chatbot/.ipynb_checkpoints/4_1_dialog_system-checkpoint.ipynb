{
 "cells": [
  {
   "cell_type": "code",
   "execution_count": 1,
   "metadata": {},
   "outputs": [],
   "source": [
    "import os\n",
    "import sys\n",
    "import json\n",
    "import random\n",
    "import pandas as pd\n",
    "import numpy as np\n",
    "from collections import deque\n",
    "from src.model import BiLSTM_CRF, MakeEmbed, textCNN, EpochLogger, save\n",
    "from src.dataset import Preprocessing, MakeDataset\n",
    "from src.NLU import NaturalLanguageUnderstanding\n",
    "from src.DM import DialogManager, E2E_dialog\n",
    "\n",
    "class DialogSystem:\n",
    "    def __init__(self):\n",
    "        intent_pretrain_path = \"./data/pretraining/save/1_intent_clsf_model/intent_clsf_97.217_steps_33.pt\"\n",
    "        entity_pretrain_path = \"./data/pretraining/save/1_entity_recog_model/entity_recog_97.192_steps_7.pt\"\n",
    "        ood_pretrain_path = \"./data/pretraining/save/1_ood_clsf_model/ood_clsf_99.724_steps_5.pt\"\n",
    "        chitchat_pretrain_path = \"./data/pretraining/save/4_chitchat_transformer_model/chitchat_transformer_1.215381_steps_81.pt\"\n",
    "\n",
    "        self.NLU = NaturalLanguageUnderstanding()\n",
    "\n",
    "        self.NLU.model_load(intent_pretrain_path, entity_pretrain_path, ood_pretrain_path)\n",
    "        self.dm = DialogManager()\n",
    "\n",
    "        self.e2e = E2E_dialog(self.NLU.dataset,chitchat_pretrain_path)\n",
    "        self.result = {\n",
    "            \"DM_result\": {},\n",
    "            \"E2E_result\" : [],\n",
    "            \"NLG\"  : \"\",\n",
    "        }\n",
    "    def goal_oriented_dialog_system(self, q):\n",
    "        NLU_result = self.NLU.run(q)\n",
    "\n",
    "        system_response = self.dm.run(NLU_result)\n",
    "        return system_response\n",
    "    \n",
    "    def chit_chat_dialog_system(self, q):\n",
    "        system_response = self.e2e.predict(q)\n",
    "        return system_response\n",
    "    \n",
    "    def ranking(self, dm_result, chitchat_result):\n",
    "        self.result[\"DM_result\"] = dm_result\n",
    "        self.result[\"E2E_result\"] = list(chitchat_result)\n",
    "        dm_nlg = dm_result['NLG']\n",
    "        \n",
    "        if(not dm_nlg == []):\n",
    "            self.result[\"NLG\"] = dm_nlg\n",
    "            return self.result\n",
    "        else:\n",
    "            score = chitchat_result[1]\n",
    "            print(score)\n",
    "            if(score>0.05):\n",
    "                self.result[\"NLG\"] = chitchat_result[0]\n",
    "                return self.result\n",
    "            else:\n",
    "                self.result[\"NLG\"] = \"죄송합니다. 다시 말해주세요.\"\n",
    "                return self.result\n",
    "            \n",
    "    def run(self, q):\n",
    "        dm_result = self.goal_oriented_dialog_system(q)\n",
    "        chitchat_result = self.chit_chat_dialog_system(q)\n",
    "        result = self.ranking(dm_result, chitchat_result)\n",
    "        return result\n",
    "    "
   ]
  },
  {
   "cell_type": "code",
   "execution_count": 2,
   "metadata": {},
   "outputs": [
    {
     "name": "stderr",
     "output_type": "stream",
     "text": [
      "/Users/1112953/opt/anaconda3/lib/python3.7/site-packages/smart_open/smart_open_lib.py:402: UserWarning: This function is deprecated, use smart_open.open instead. See the migration notes for details: https://github.com/RaRe-Technologies/smart_open/blob/master/README.rst#migrating-to-the-new-open-function\n",
      "  'See the migration notes for details: %s' % _MIGRATION_NOTES_URL\n"
     ]
    }
   ],
   "source": [
    "dialogsystem = DialogSystem()"
   ]
  },
  {
   "cell_type": "code",
   "execution_count": 3,
   "metadata": {
    "tags": []
   },
   "outputs": [
    {
     "name": "stdin",
     "output_type": "stream",
     "text": [
      " 안녕\n"
     ]
    },
    {
     "name": "stderr",
     "output_type": "stream",
     "text": [
      "/Users/1112953/opt/anaconda3/lib/python3.7/site-packages/torchcrf/__init__.py:305: UserWarning: where received a uint8 condition tensor. This behavior is deprecated and will be removed in a future version of PyTorch. Use a boolean condition instead. (Triggered internally at  /Users/distiller/project/conda/conda-bld/pytorch_1631631226004/work/aten/src/ATen/native/TensorCompare.cpp:255.)\n",
      "  score = torch.where(mask[i].unsqueeze(1), next_score, score)\n"
     ]
    },
    {
     "name": "stdout",
     "output_type": "stream",
     "text": [
      "['안녕하세요! 날씨 미세먼지 여행 식당에 대해 물어봐주세요!']\n"
     ]
    },
    {
     "name": "stdin",
     "output_type": "stream",
     "text": [
      " 야근해야해\n"
     ]
    },
    {
     "name": "stdout",
     "output_type": "stream",
     "text": [
      "0.151652991771698\n",
      "얼른 뭐라도 드세요.\n"
     ]
    },
    {
     "name": "stdin",
     "output_type": "stream",
     "text": [
      " 뭐먹지\n"
     ]
    },
    {
     "name": "stdout",
     "output_type": "stream",
     "text": [
      "0.08218114823102951\n",
      "이별은 상처를 남겨서 아무는 데는 시간이 거릴 수도 있으니 이해해주세요 물어보세요. 어제와 내일을 놓고 고민하느라 시간을 낭비하지 갈때 연락하라고 해봐요 해봐요 해봐요 해봐요 해봐요 물어보세요 해봐요 해봐요 해봐요 해봐요 해봐요 물어보세요 해봐요 해봐요 해봐요 해봐요 해봐요 해봐요 해봐요 물어보세요 해봐요 해봐요 해봐요 해봐요 해봐요 해봐요 해봐요 해봐요 해봐요 해봐요\n"
     ]
    },
    {
     "name": "stdin",
     "output_type": "stream",
     "text": [
      " end\n"
     ]
    }
   ],
   "source": [
    "q = \"\"\n",
    "q = input()\n",
    "while(q!=\"end\"):\n",
    "    \n",
    "    result=dialogsystem.run(q)\n",
    "    print(result['NLG'])\n",
    "    q = input()"
   ]
  },
  {
   "cell_type": "code",
   "execution_count": 16,
   "metadata": {},
   "outputs": [],
   "source": [
    "result=dialogsystem.run(\"안녕\")"
   ]
  },
  {
   "cell_type": "code",
   "execution_count": 17,
   "metadata": {},
   "outputs": [
    {
     "data": {
      "text/plain": [
       "{'DM_result': {'STATE': 'DS_REQ_USER_INPUT',\n",
       "  'SLOT': [],\n",
       "  'NLU': {'INTENT': 'ood', 'SLOT': []},\n",
       "  'NLG': ['안녕하세요! 날씨 미세먼지 여행 식당에 대해 물어봐주세요!']},\n",
       " 'E2E_result': ['알면서도 데이는 인정하고 호의를 보여보세요야할개월이 되었네요야할개월이 되었네요야할개월이 되었네요야할개월이 되었네요야할 아직인가 봅니다 인정하고 호의를 보여보세요 실망하지 휴식에 불과하죠 수도 있겠네요 중요합니다 들어주세요 중요합니다 들어주세요 중요합니다 들어주세요 중요합니다 들어주세요겠지만 즐겁게 속아주세요 해가 뜰 성장하나봐요야할 부분이니야할 부분이니야할',\n",
       "  0.026331137865781784],\n",
       " 'NLG': ['안녕하세요! 날씨 미세먼지 여행 식당에 대해 물어봐주세요!']}"
      ]
     },
     "execution_count": 17,
     "metadata": {},
     "output_type": "execute_result"
    }
   ],
   "source": [
    "result"
   ]
  },
  {
   "cell_type": "code",
   "execution_count": 18,
   "metadata": {},
   "outputs": [],
   "source": [
    "result=dialogsystem.run(\"인천 맛집\")"
   ]
  },
  {
   "cell_type": "code",
   "execution_count": 19,
   "metadata": {},
   "outputs": [
    {
     "data": {
      "text/plain": [
       "{'DM_result': {'STATE': 'DS_REQ_USER_INPUT',\n",
       "  'SLOT': ['LOCATION^인천'],\n",
       "  'NLU': {'INTENT': 'restaurant', 'SLOT': ['LOCATION^인천']},\n",
       "  'NLG': ['인천 주변의 추천 식당은 OOOO입니다.']},\n",
       " 'E2E_result': ['관계의 개선을 필요하겠네요하느냐에.', 0.07287415117025375],\n",
       " 'NLG': ['인천 주변의 추천 식당은 OOOO입니다.']}"
      ]
     },
     "execution_count": 19,
     "metadata": {},
     "output_type": "execute_result"
    }
   ],
   "source": [
    "result"
   ]
  },
  {
   "cell_type": "code",
   "execution_count": 20,
   "metadata": {},
   "outputs": [],
   "source": [
    "result=dialogsystem.run(\"미세먼지 알려줘\")"
   ]
  },
  {
   "cell_type": "code",
   "execution_count": 21,
   "metadata": {},
   "outputs": [
    {
     "data": {
      "text/plain": [
       "{'DM_result': {'STATE': 'DS_REQ_USER_INPUT',\n",
       "  'SLOT': [],\n",
       "  'NLU': {'INTENT': 'dust', 'SLOT': []},\n",
       "  'NLG': ['오늘 서울의 미세먼지는 좋음입니다.']},\n",
       " 'E2E_result': ['마스크 쓰고 나가세요. 그렇지만 조금 감수해보세요 되어달라고 인터넷 검색가 끝인가봐요 지켜보세요 봅니다 인정하고 호의를 보여보세요 집착하는 포인트가 따라 다르겠죠 따라 다르겠죠 따라 다르겠죠 않았나봐요 조금이라도 쉬셔야 조금이라도 쉬셔야 조금이라도 쉬셔야 조금이라도 쉬셔야 조금이라도 쉬셔야 인터넷 검색가 지켜보세요 두셨네요 한순간이예요 따라 다르겠죠 따라 다르겠죠 않았나봐요 조금이라도',\n",
       "  0.07088179886341095],\n",
       " 'NLG': ['오늘 서울의 미세먼지는 좋음입니다.']}"
      ]
     },
     "execution_count": 21,
     "metadata": {},
     "output_type": "execute_result"
    }
   ],
   "source": [
    "result"
   ]
  },
  {
   "cell_type": "code",
   "execution_count": 22,
   "metadata": {},
   "outputs": [],
   "source": [
    "result=dialogsystem.run(\"대전\")"
   ]
  },
  {
   "cell_type": "code",
   "execution_count": 23,
   "metadata": {},
   "outputs": [
    {
     "data": {
      "text/plain": [
       "{'DM_result': {'STATE': 'DS_REQ_USER_INPUT',\n",
       "  'SLOT': ['LOCATION^대전'],\n",
       "  'NLU': {'INTENT': 'ood', 'SLOT': ['LOCATION^대전']},\n",
       "  'NLG': ['오늘 대전의 미세먼지는 좋음입니다.']},\n",
       " 'E2E_result': ['소개팅 시켜달라고 올인은 넓으신가봐요 거예요.', 0.15332584083080292],\n",
       " 'NLG': ['오늘 대전의 미세먼지는 좋음입니다.']}"
      ]
     },
     "execution_count": 23,
     "metadata": {},
     "output_type": "execute_result"
    }
   ],
   "source": [
    "result"
   ]
  },
  {
   "cell_type": "code",
   "execution_count": 24,
   "metadata": {},
   "outputs": [
    {
     "name": "stdout",
     "output_type": "stream",
     "text": [
      "0.2603108286857605\n"
     ]
    }
   ],
   "source": [
    "result=dialogsystem.run(\"난 혼자인게 좋아\")"
   ]
  },
  {
   "cell_type": "code",
   "execution_count": 25,
   "metadata": {},
   "outputs": [
    {
     "data": {
      "text/plain": [
       "{'DM_result': {'STATE': '', 'SLOT': '', 'NLU': {}, 'NLG': []},\n",
       " 'E2E_result': ['마음의 준비를 하세요.', 0.2603108286857605],\n",
       " 'NLG': '마음의 준비를 하세요.'}"
      ]
     },
     "execution_count": 25,
     "metadata": {},
     "output_type": "execute_result"
    }
   ],
   "source": [
    "result"
   ]
  },
  {
   "cell_type": "code",
   "execution_count": 26,
   "metadata": {},
   "outputs": [],
   "source": [
    "result=dialogsystem.run(\"꽃을 좋아해\")"
   ]
  },
  {
   "cell_type": "code",
   "execution_count": 27,
   "metadata": {},
   "outputs": [
    {
     "data": {
      "text/plain": [
       "{'DM_result': {'STATE': 'DS_REQ_USER_INPUT',\n",
       "  'SLOT': ['LOCATION^꽃을'],\n",
       "  'NLU': {'INTENT': 'ood', 'SLOT': ['LOCATION^꽃을']},\n",
       "  'NLG': ['오늘 꽃을의 미세먼지는 좋음입니다.']},\n",
       " 'E2E_result': ['사랑했던 사람이니까요 자격증일 사랑했던 사람이니까요 자격증일 않는다면 않게 추억 만들고 휴식에 불과하죠 그렇지만 조금 따로 놀죠 않게 고백하는게 맞는 것과 맞지 않은 시간이지요 거예요.',\n",
       "  0.08617715537548065],\n",
       " 'NLG': ['오늘 꽃을의 미세먼지는 좋음입니다.']}"
      ]
     },
     "execution_count": 27,
     "metadata": {},
     "output_type": "execute_result"
    }
   ],
   "source": [
    "result"
   ]
  },
  {
   "cell_type": "code",
   "execution_count": 28,
   "metadata": {},
   "outputs": [
    {
     "data": {
      "text/plain": [
       "{'DM_result': {'STATE': 'DS_REQ_USER_INPUT',\n",
       "  'SLOT': [],\n",
       "  'NLU': {'INTENT': 'weather', 'SLOT': []},\n",
       "  'NLG': ['오늘 서울의 날씨는 흐림입니다.']},\n",
       " 'E2E_result': ['나들이 가보세요.', 0.17587050795555115],\n",
       " 'NLG': ['오늘 서울의 날씨는 흐림입니다.']}"
      ]
     },
     "execution_count": 28,
     "metadata": {},
     "output_type": "execute_result"
    }
   ],
   "source": [
    "dialogsystem.run(\"날씨 알려줘\")"
   ]
  },
  {
   "cell_type": "code",
   "execution_count": null,
   "metadata": {},
   "outputs": [],
   "source": []
  }
 ],
 "metadata": {
  "kernelspec": {
   "display_name": "Python 3",
   "language": "python",
   "name": "python3"
  },
  "language_info": {
   "codemirror_mode": {
    "name": "ipython",
    "version": 3
   },
   "file_extension": ".py",
   "mimetype": "text/x-python",
   "name": "python",
   "nbconvert_exporter": "python",
   "pygments_lexer": "ipython3",
   "version": "3.7.6"
  }
 },
 "nbformat": 4,
 "nbformat_minor": 5
}
